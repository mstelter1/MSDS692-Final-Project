{
 "cells": [
  {
   "cell_type": "code",
   "execution_count": null,
   "id": "74968dd2",
   "metadata": {},
   "outputs": [],
   "source": [
    "import PySimpleGUI as sg\n",
    "\n",
    "def main():\n",
    "\n",
    "    layout = [  [sg.Text('Rail UT Excel Update', font='_ 14')],\n",
    "                [sg.B('Launch'), sg.Exit()],\n",
    "                ]\n",
    "\n",
    "    window = sg.Window('Rail UT Excel Update', layout, keep_on_top=True, font='_ 20', size=(400, 200))\n",
    "\n",
    "\n",
    "    while True:\n",
    "        event, values = window.read()\n",
    "        if event in (sg.WIN_CLOSED, 'Exit'):\n",
    "            break\n",
    "        elif event == 'Launch':\n",
    "            import RailUT.py\n",
    "    window.close()\n",
    "\n",
    "if __name__ == '__main__':\n",
    "    main()"
   ]
  }
 ],
 "metadata": {
  "kernelspec": {
   "display_name": "RailAnalysis",
   "language": "python",
   "name": "railanalysis"
  },
  "language_info": {
   "codemirror_mode": {
    "name": "ipython",
    "version": 3
   },
   "file_extension": ".py",
   "mimetype": "text/x-python",
   "name": "python",
   "nbconvert_exporter": "python",
   "pygments_lexer": "ipython3",
   "version": "3.9.12"
  }
 },
 "nbformat": 4,
 "nbformat_minor": 5
}
